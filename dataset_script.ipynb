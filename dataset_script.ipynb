{
 "cells": [
  {
   "cell_type": "code",
   "execution_count": null,
   "id": "447f1f2b",
   "metadata": {
    "vscode": {
     "languageId": "powershell"
    }
   },
   "outputs": [],
   "source": []
  },
  {
   "cell_type": "code",
   "execution_count": null,
   "id": "fe2310ec",
   "metadata": {},
   "outputs": [],
   "source": [
    "df_kenya.to_csv('kenya_fraud_detection.csv')"
   ]
  },
  {
   "cell_type": "code",
   "execution_count": 2,
   "id": "f9d1b13c",
   "metadata": {
    "vscode": {
     "languageId": "powershell"
    }
   },
   "outputs": [],
   "source": [
    "import pandas as pd\n",
    "import numpy as np\n",
    "import random\n",
    "from datetime import datetime, timedelta\n",
    "\n",
    "# Set random seed for reproducibility\n",
    "np.random.seed(42)\n",
    "\n",
    "# Simulate parameters\n",
    "n_transactions = 50000\n",
    "user_ids = [f\"U{str(i).zfill(4)}\" for i in range(1, 1001)]\n",
    "device_ids = [f\"D{str(i).zfill(3)}\" for i in range(1, 201)]\n",
    "agent_ids = [f\"A{str(i).zfill(3)}\" for i in range(1, 301)]\n",
    "locations = [\"Ikeja\", \"Yaba\", \"Ajah\", \"Kano\", \"Aba\", \"Makurdi\", \"Portharcout\", \"Owerri\"]\n",
    "transaction_types = [\"send\", \"receive\", \"cash_in\", \"cash_out\"]\n",
    "channels = [\"USSD\", \"App\", \"Agent\", \"Web\"]\n",
    "\n",
    "# Generate timestamps\n",
    "start_date = datetime(2024, 1, 1)\n",
    "timestamps = [start_date + timedelta(minutes=np.random.randint(0, 60*24*180)) for _ in range(n_transactions)]\n",
    "\n",
    "# Generate transactions\n",
    "data = {\n",
    "    \"transaction_id\": [f\"T{str(i).zfill(6)}\" for i in range(n_transactions)],\n",
    "    \"user_id\": np.random.choice(user_ids, n_transactions),\n",
    "    \"transaction_type\": np.random.choice(transaction_types, n_transactions, p=[0.35, 0.35, 0.15, 0.15]),\n",
    "    \"amount\": np.round(np.random.exponential(scale=5000, size=n_transactions), 2),\n",
    "    \"device_id\": np.random.choice(device_ids, n_transactions),\n",
    "    \"location\": np.random.choice(locations, n_transactions),\n",
    "    \"timestamp\": timestamps,\n",
    "    \"channel\": np.random.choice(channels, n_transactions, p=[0.5, 0.3, 0.15, 0.05]),\n",
    "    \"agent_id\": np.random.choice(agent_ids, n_transactions),\n",
    "    \"sim_swap_flag\": np.random.choice([0, 1], n_transactions, p=[0.98, 0.02])\n",
    "}\n",
    "\n",
    "df = pd.DataFrame(data)\n",
    "\n",
    "# Derive balance fields\n",
    "df[\"balance_before\"] = np.round(np.random.uniform(1000, 100000, size=n_transactions), 2)\n",
    "df[\"balance_after\"] = df[\"balance_before\"] - df[\"amount\"]\n",
    "df[\"balance_after\"] = df[\"balance_after\"].apply(lambda x: x if x > 0 else np.random.uniform(0, 1000))\n",
    "\n",
    "\n",
    "# Add transaction velocity: simulate past 1-hour tx count for each user\n",
    "df[\"transaction_velocity\"] = np.random.poisson(lam=1.2, size=n_transactions)\n",
    "\n",
    "# Save to CSV\n",
    "df.to_csv('mobile_money_transactions.csv', index=False)\n"
   ]
  },
  {
   "cell_type": "code",
   "execution_count": null,
   "id": "4c1a6ad9",
   "metadata": {
    "vscode": {
     "languageId": "powershell"
    }
   },
   "outputs": [],
   "source": []
  }
 ],
 "metadata": {
  "kernelspec": {
   "display_name": "fraud_detection",
   "language": "python",
   "name": "python3"
  },
  "language_info": {
   "codemirror_mode": {
    "name": "ipython",
    "version": 3
   },
   "file_extension": ".py",
   "mimetype": "text/x-python",
   "name": "python",
   "nbconvert_exporter": "python",
   "pygments_lexer": "ipython3",
   "version": "3.13.3"
  }
 },
 "nbformat": 4,
 "nbformat_minor": 5
}
